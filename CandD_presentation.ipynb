{
 "cells": [
  {
   "cell_type": "code",
   "execution_count": 18,
   "metadata": {
    "slideshow": {
     "slide_type": "skip"
    }
   },
   "outputs": [
    {
     "data": {
      "text/html": [
       "<style>\n",
       "#notebook-container {\n",
       "    width: 90%;\n",
       "    background-color: #EEE\n",
       "}\n",
       "\n",
       ".code_cell {\n",
       "   flex-direction: row !important;\n",
       "}\n",
       "\n",
       ".code_cell .output_wrapper {\n",
       "    width: 60%;\n",
       "    background-color: #FFF\n",
       "}\n",
       "\n",
       ".code_cell .input {\n",
       "    width: 40%;\n",
       "    background-color: #FFF\n",
       "}\n",
       ".barcode{\n",
       "    white-space:pre; /* or pre-wrap if you want wrapping to still work. */\n",
       "}\n",
       "</style>\n"
      ],
      "text/plain": [
       "HTML{String}(\"<style>\\n#notebook-container {\\n    width: 90%;\\n    background-color: #EEE\\n}\\n\\n.code_cell {\\n   flex-direction: row !important;\\n}\\n\\n.code_cell .output_wrapper {\\n    width: 60%;\\n    background-color: #FFF\\n}\\n\\n.code_cell .input {\\n    width: 40%;\\n    background-color: #FFF\\n}\\n.barcode{\\n    white-space:pre; /* or pre-wrap if you want wrapping to still work. */\\n}\\n</style>\\n\")"
      ]
     },
     "execution_count": 18,
     "metadata": {},
     "output_type": "execute_result"
    }
   ],
   "source": [
    "HTML(\"\"\"\n",
    "<style>\n",
    "#notebook-container {\n",
    "    width: 90%;\n",
    "    background-color: #EEE\n",
    "}\n",
    "\n",
    ".code_cell {\n",
    "   flex-direction: row !important;\n",
    "}\n",
    "\n",
    ".code_cell .output_wrapper {\n",
    "    width: 60%;\n",
    "    background-color: #FFF\n",
    "}\n",
    "\n",
    ".code_cell .input {\n",
    "    width: 40%;\n",
    "    background-color: #FFF\n",
    "}\n",
    ".barcode{\n",
    "    white-space:pre; /* or pre-wrap if you want wrapping to still work. */\n",
    "}\n",
    "</style>\n",
    "\"\"\")"
   ]
  },
  {
   "cell_type": "markdown",
   "metadata": {
    "slideshow": {
     "slide_type": "slide"
    }
   },
   "source": [
    "<br>\n",
    "<p style=\"font-family:Lato;font-size:160%;color:rgb(30,30,130);line-height:150%;text-align:center\">\n",
    "        <b>DRIPs.jl: A Toolbox for Solving <br>\n",
    "            Dynamic Rational Inattention Problems</b>\n",
    "</p>\n",
    "<br>\n",
    "<br>\n",
    "<p class=\"barcode\" style=\"font-family:Lato;font-size:120%;color:rgb(0,0,0);line-height:150%;text-align:center\">\n",
    "        <b>Hassan Afrouzi                         Choongryul Yang </b> \n",
    "              Columbia U.                                     UT Austin           \n",
    "</p>\n",
    "<br>\n",
    "<br>\n",
    "\n",
    "<br>\n",
    "<p style=\"font-family:Lato;font-size:100%;color:rgb(214,39,40);line-height:150%;text-align:center\">\n",
    "    <b>Cognition and Decision Lab</b>\n",
    "</p>\n",
    "<p style=\"font-family:Lato;font-size:100%;line-height:150%;text-align:center;margin-top:-20px\">\n",
    "    July 2020\n",
    "</p>\n",
    "\n",
    "\n"
   ]
  },
  {
   "cell_type": "markdown",
   "metadata": {
    "slideshow": {
     "slide_type": "slide"
    }
   },
   "source": [
    "<p style=\"font-family:Lato;font-size:160%;color:rgb(30,30,130);line-height:150%\">\n",
    "    <b>Motivation</b>\n",
    "</p>\n",
    "\n",
    "\\begin{itemize}\n",
    "    \\item There is growing demand for departures from full information models: \n",
    "    \\begin{itemize}\n",
    "        \\item Households and firms make mistakes in perceiving available information\n",
    "    \\end{itemize}\n",
    "\\end{itemize}\n",
    "\n",
    "\\begin{itemize}\n",
    "    \\item Rational inattention offers an appealing alternative:\n",
    "    \\begin{itemize}\n",
    "        \\item A model that introduces a cost to information acquisition\n",
    "        \\item But has enough discipline to still generate robust predictions\n",
    "    \\end{itemize}\n",
    "\\end{itemize}\n",
    "\n",
    "\\begin{itemize}\n",
    "    \\item Dynamics are notoriously hard/slow to solve.\n",
    "    \\begin{itemize}\n",
    "        \\item Both state and choice variables are distributions.\n",
    "        \\item Once we move beyond finite action/state sets, all bets are off.\n",
    "    \\end{itemize}\n",
    "        \\item Easiest case: Linear Quadratic Gaussian (LQG) setting.\n",
    "    \\begin{itemize}\n",
    "        \\item State and choice variables reduce to $n$-dimensional variance-covariance matrices. \n",
    "    \\end{itemize}\n",
    "\\end{itemize}\n"
   ]
  },
  {
   "cell_type": "markdown",
   "metadata": {
    "slideshow": {
     "slide_type": "slide"
    }
   },
   "source": [
    "<p style=\"font-family:Lato;font-size:160%;color:rgb(30,30,130);line-height:150%\">\n",
    "    <b>Dynamic Rational Inattention Problems (DRIPs)</b>\n",
    "</p>\n",
    "\n",
    "\\begin{align*}\n",
    "    \\min_{\\{\\vec{a}_t\\}_{t\\geq 0}} & \\ \\ \\mathbb{E}\\left[\\sum_{t=0}^\\infty \\beta^t \\bigg( (\\vec{a}_t - \\vec{x}_t'\\mathbf{H})'(\\vec{a}_t - \\vec{x}_t'\\mathbf{H}) - \\omega \\mathbb{I}(\\vec{a}_t;\\vec{x}_t|\\vec{a}^{t-1}) \\bigg) \\lvert \\vec{a}^{-1}\\right] \\\\\n",
    "    s.t. \\ \\ & \\ \\ \n",
    "        \\vec{x}_t=\\mathbf{A}\\vec{x}_{t-1}+\\mathbf{Q}\\vec{u}_t,\\quad \\vec{u}_t\\sim \\mathcal{N}(\\mathbf{0},\\mathbf{I}^{k\\times k}) \\\\\n",
    "        & \\ \\ \n",
    "        \\vec{a}^t=\\vec{a}^{t-1} \\cup a_t \n",
    "\\end{align*}\n",
    "\n",
    "* $\\vec{a}_t\\in\\mathbb{R}^m$ is the vector of the agent's actions at time $t$.\n",
    "* $\\vec{x}_t\\in\\mathbb{R}^n$ is the vector of the shocks that the agent faces at time $t$.\n",
    "\n",
    "**Why is this hard to solve?**\n",
    "Solution is not necessarily interior:\n",
    "\\begin{align*}\n",
    "    \\mathbb{I}(\\vec{a}^t;\\vec{x}^t|\\vec{a}^{t-1}) = \\sum_{j=1}^n \\mathbb{I}(\\vec{a}_t;x_{t,j}|\\vec{a}^{t-1},x_{t}^{j-1}) \\\\\n",
    "    \\mathbb{I}(\\vec{a}_t;x_{t,j}|\\vec{a}^{t-1},x_{t}^{j-1}) \\geq 0, \\forall 1\\leq j\\leq n\n",
    "\\end{align*}\n"
   ]
  },
  {
   "cell_type": "markdown",
   "metadata": {
    "slideshow": {
     "slide_type": "slide"
    }
   },
   "source": [
    "<p style=\"font-family:Lato;font-size:160%;color:rgb(30,30,130);line-height:150%\">\n",
    "    <b>What's the solution?</b>\n",
    "</p>\n",
    "\n",
    "\\begin{itemize}\n",
    "    \\item We know how to solve the static version: Fulton (2017), Dewan (2020), Koszegi and Matejka (2020).\n",
    "        \\begin{itemize}\n",
    "            \\item Interesting properties: Endogenous Spartsity, Correlated belief across indpendent dimensions. \n",
    "        \\end{itemize}\n",
    "\\end{itemize}\n",
    "\n",
    "\\begin{itemize}\n",
    "    \\item What has been done?\n",
    "    \\begin{itemize}\n",
    "        \\item Sims (2003, 2011): provides interior solution. \n",
    "            \\begin{itemize}\n",
    "            Problem: we now know sparsity is a prominent (and desirable) feature.\n",
    "            \\end{itemize}\n",
    "        \\item Mackowiack, Matejka, and Wiederholt (2018): one action -> one constraint. \n",
    "            \\begin{itemize}\n",
    "                \\item cannot deal with multidimensional actions.\n",
    "            \\end{itemize}\n",
    "        \\item Miao, Wu, and Young (2019): solve for the Golden rule information structure.\n",
    "            \\begin{itemize}\n",
    "                \\item distorts amount of information acquisition as well as the factors of information acquisition.\n",
    "                \\item does not provide transition path. \n",
    "            \\end{itemize}\n",
    "    \\end{itemize}\n",
    "    \\item What do we do?\n",
    "    \\begin{itemize}\n",
    "        \\item Characterize the solution, including transition dynamics, multiple actions, and discounting.\n",
    "        \\item Provide a computational package to solve DRIPs.\n",
    "    \\end{itemize}\n",
    "\\end{itemize}\n"
   ]
  },
  {
   "cell_type": "markdown",
   "metadata": {
    "slideshow": {
     "slide_type": "skip"
    }
   },
   "source": [
    "<p style=\"font-family:Lato;font-size:160%;color:rgb(30,30,130);line-height:150%\">\n",
    "    <b>Contributions</b>\n",
    "</p>\n",
    "\n",
    "\\begin{itemize}\n",
    "    \\item Characterize the solution for the LQG problem. \n",
    "\\begin{align}\n",
    "                \\mathbf{\\Sigma}_{t+1|t}&=\\omega \\mathbf{A}\\mathbf{\\Sigma}_{t|t-1}^{\\frac{1}{2}}\n",
    "                \\left[\\max\\left(\\mathbf{\\Sigma}_{t|t-1}^{\\frac{1}{2}}\\mathbf{\\Omega}_t\\mathbf{\\Sigma}_{t|t-1}^{\\frac{1}{2}},\\omega\\right)\\right]^{-1}\\mathbf{\\Sigma}_{t|t-1}^{\\frac{1}{2}}\\mathbf{A}'+\\mathbf{QQ}' \\label{eq:optimal_posterior} \\tag{Law of Motion for Priors}\\\\\n",
    "                \\mathbf{\\Omega}_t&=\\mathbf{\\Omega}+\\beta\\mathbf{A}'\\mathbf{\\Sigma}_{t+1|t}^{-\\frac{1}{2}}\\min\\left(\\mathbf{\\Sigma}_{t+1|t}^{\\frac{1}{2}}\\mathbf{\\Omega}_{t+1}\\mathbf{\\Sigma}_{t+1|t}^{\\frac{1}{2}},\\omega\\right)\\mathbf{\\Sigma}_{t+1|t}^{-\\frac{1}{2}}\\mathbf{A} \\label{eq:optimal_omega} \\tag{Euler equation} \n",
    "            \\end{align}\n",
    "\\end{itemize}"
   ]
  },
  {
   "cell_type": "markdown",
   "metadata": {
    "slideshow": {
     "slide_type": "slide"
    }
   },
   "source": [
    "<p style=\"font-family:Lato;font-size:160%;color:rgb(30,30,130);line-height:150%\">\n",
    "    <b>Solution</b>\n",
    "</p>\n",
    "* The solution to the dynamic rational inattention problem is a joint stochastic process between the actions and the states: $\\{(\\vec{a}_t,\\vec{x}_t):t\\geq 0\\}$, with an initial belief $\\vec{x}_0\\sim N(\\hat{x}_0,\\mathbf{\\Sigma}_{0|-1})$.\n",
    "\n",
    "* We are also interested in the law of motion for the agent's belief about $\\vec{x}_t$ under the optimal information structure $\\hat{x}_t=\\mathbb{E}_t[\\vec{x}_t]$ where the expectation is taken conditional on the agent's time $t$ information.\n",
    "\n",
    "* Theorem 2 and Proposition 3 in Afrouzi and Yang (2020) characterize this joint distribution as a function of a sequence $(\\mathbf{K_t},\\mathbf{Y_t},\\mathbf{\\Sigma}_{z,t})_{t=0}^\\infty$ where\n",
    "\n",
    "\\begin{align*}\n",
    "    \\vec{a}_t &= \\mathbf{H}'\\hat{x}_t = \\mathbf{H}'\\mathbf{A}\\hat{x}_{t-1}+\\mathbf{Y}_t'(\\vec{x}_t-\\mathbf{A}\\hat{x}_{t-1})+\\vec{z}_t \\\\\n",
    "    \\hat{x}_t &= \\mathbf{A}\\hat{x}_{t-1}+\\mathbf{K}_t\\mathbf{Y}_t'(\\vec{x}_t-\\mathbf{A}\\hat{x}_{t-1})+\\mathbf{K}_t\\vec{z}_t,\\quad \\vec{z}\\sim\\mathcal{N}(0,\\Sigma_{z,t})\n",
    "\\end{align*}\n"
   ]
  },
  {
   "cell_type": "markdown",
   "metadata": {
    "slideshow": {
     "slide_type": "subslide"
    }
   },
   "source": [
    "<p style=\"font-family:Lato;font-size:160%;color:rgb(30,30,130);line-height:150%\">\n",
    "    <b>Solution</b>\n",
    "</p>\n",
    "\n",
    "\\begin{align*}\n",
    "    \\vec{a}_t &= \\mathbf{H}'\\hat{x}_t = \\mathbf{H}'\\mathbf{A}\\hat{x}_{t-1}+\\mathbf{Y}_t'(\\vec{x}_t-\\mathbf{A}\\hat{x}_{t-1})+\\vec{z}_t \\\\\n",
    "    \\hat{x}_t &= \\mathbf{A}\\hat{x}_{t-1}+\\mathbf{K}_t\\mathbf{Y}_t'(\\vec{x}_t-\\mathbf{A}\\hat{x}_{t-1})+\\mathbf{K}_t\\vec{z}_t,\\quad \\vec{z}\\sim\\mathcal{N}(0,\\Sigma_{z,t})\n",
    "\\end{align*}\n",
    "\n",
    "* $\\mathbf{K}_t\\in\\mathbb{R}^{n\\times m}$ is the Kalman-gain matrix of the agent in under optimal information acquisition\n",
    "\n",
    "* $\\mathbf{Y}_t\\in\\mathbb{R}^{n\\times m}$ maps the state to the agent's action under rational inattetion\n",
    "\n",
    "* $\\mathbf{\\Sigma}_{z,t}\\in\\mathbb{R}^{m\\times m}$ is the variance-covariance matrix of the agent's rational inattention error\n",
    "\n",
    "* `DRIPs.jl`; Julia package with four functions to remember:\n",
    "    * `p  = Drip(ω,β,A,Q,H)`: define and solve for the steady state of the problem.\n",
    "    * `pt = Trip(p,S)`: solve for the transition dynamics of `p` with initial condition `S`.\n",
    "    * `irfs(pt)`: solve for the impulse responses of actions and beliefs.\n",
    "    * `simulate(p)`: simulate a path for actions and beliefs.\n"
   ]
  },
  {
   "cell_type": "markdown",
   "metadata": {
    "slideshow": {
     "slide_type": "skip"
    }
   },
   "source": [
    "<p style=\"font-family:Lato;font-size:140%;color:rgb(30,30,130);line-height:150%\">\n",
    "    <b> Dynamic Rational Inattention Problems (DRIPs) </b>\n",
    "</p>\n",
    "\n",
    "\\begin{itemize}\n",
    "    \\item An agent chooses $\\vec{a}_t\\in\\mathbb{R}^m$ and gains $v(\\vec{a}_t,\\vec{x}_t)$, where $\\vec{x}_t\\in\\mathbb{R}^n$ is an exogenous process\n",
    "\\end{itemize}"
   ]
  },
  {
   "cell_type": "markdown",
   "metadata": {
    "slideshow": {
     "slide_type": "skip"
    }
   },
   "source": [
    "<p style=\"font-family:Lato;font-size:140%;color:rgb(30,30,130);line-height:150%\">\n",
    "    <b> Dynamic Rational Inattention Problems (DRIPs) </b>\n",
    "</p>\n",
    "\n",
    "\\begin{itemize}\n",
    "    \\item An agent chooses $\\vec{a}_t\\in\\mathbb{R}^m$ and gains $v(\\vec{a}_t,\\vec{x}_t)$, where $\\vec{x}_t\\in\\mathbb{R}^n$ is an exogenous process\n",
    "    \\item At any time $t$ agent wants to learn about $X^t\\equiv (\\vec{x}_\\tau)_{\\tau\\leq t}$\n",
    "\\end{itemize}"
   ]
  },
  {
   "cell_type": "markdown",
   "metadata": {
    "slideshow": {
     "slide_type": "skip"
    }
   },
   "source": [
    "<p style=\"font-family:Lato;font-size:140%;color:rgb(30,30,130);line-height:150%\">\n",
    "    <b> Dynamic Rational Inattention Problems (DRIPs) </b>\n",
    "</p>\n",
    "\n",
    "\\begin{itemize}\n",
    "    \\item An agent chooses $\\vec{a}_t\\in\\mathbb{R}^m$ and gains $v(\\vec{a}_t,\\vec{x}_t)$, where $\\vec{x}_t\\in\\mathbb{R}^n$ is an exogenous process\n",
    "    \\item At any time $t$ agent wants to learn about $X^t\\equiv (\\vec{x}_\\tau)_{\\tau\\leq t}$\n",
    "    \\item The agent has access to a set of available signals $\\mathcal{S}_t$ such that\n",
    "        \\begin{itemize}\n",
    "            \\item for any posterior on $X^t$ there is $S^t\\subset \\mathcal{S}^t$ that generates it\n",
    "            \\item available signals do not expire over time $\\mathcal{S}^t\\subset\\mathcal{S}^{t+h},h\\geq0.$\n",
    "            \\item signals are not informative of future innovations to $\\vec{x}$: $\\mathcal{S}_t\\perp \\vec{x}_{t+h}|X^t$\n",
    "        \\end{itemize}\n",
    "\\end{itemize}"
   ]
  },
  {
   "cell_type": "markdown",
   "metadata": {
    "slideshow": {
     "slide_type": "skip"
    }
   },
   "source": [
    "<p style=\"font-family:Lato;font-size:140%;color:rgb(30,30,130);line-height:150%\">\n",
    "    <b> Dynamic Rational Inattention Problems (DRIPs) </b>\n",
    "</p>\n",
    "\n",
    "\\begin{itemize}\n",
    "    \\item An agent chooses $\\vec{a}_t\\in\\mathbb{R}^m$ and gains $v(\\vec{a}_t,\\vec{x}_t)$, where $\\vec{x}_t\\in\\mathbb{R}^n$ is an exogenous process\n",
    "    \\item At any time $t$ agent wants to learn about $X^t\\equiv (\\vec{x}_\\tau)_{\\tau\\leq t}$\n",
    "    \\item The agent has access to a set of available signals $\\mathcal{S}_t$ such that\n",
    "        \\begin{itemize}\n",
    "            \\item for any posterior on $X^t$ there is $S^t\\subset \\mathcal{S}^t$ that generates it\n",
    "            \\item available signals do not expire over time $\\mathcal{S}^t\\subset\\mathcal{S}^{t+h},h\\geq0.$\n",
    "            \\item signals are not informative of future innovations to $\\vec{x}$: $\\mathcal{S}_t\\perp \\vec{x}_{t+h}|X^t$\n",
    "        \\end{itemize}\n",
    "    \\item Ideally, we would like to solve:\n",
    "\\end{itemize}\n",
    "          \\begin{align*}\n",
    "            \\sup_{\\{S_t\\subset \\mathcal{S}^t,\\vec{a}_t(S^t):S^t\\to\\mathbb{R}:t\\geq0\\}} \\ \\ & \\sum_{t=0}^\\infty \\beta ^t\n",
    "            \\mathbb{E}[v(\\vec{a}_t,\\vec{x}_t)-\\omega\\mathbb{I}(X^t;S^t|S^{t-1})|S^{-1}]  \\\\\n",
    "            s.t. \\ \\ \\ \\ \\ \\ \\ \\ \\ \\ \\ \\ \\ \\ \\  & S^{t} = S^{t-1}\\cup{S_t}, \\forall t\\geq 0  \\quad \\quad \\ \\ \\ \\ \\ \\ \\ \\ \\ \\ \\ \\ \\ \\ \\ \\ \\ \\ \\ \\ \\  \\ \\ \\ \\ \\ \\ \\ \\ \\ \\ \\ \\ \\ \\ \\ \\text{(no-forgetting)} \\\\\n",
    "            \\ \\ \\ \\ \\ \\ \\ \\ \\ \\ \\ \\ \\ \\ \\  & S^{-1}\\, \\text{given.} \n",
    "          \\end{align*}"
   ]
  },
  {
   "cell_type": "markdown",
   "metadata": {
    "slideshow": {
     "slide_type": "skip"
    }
   },
   "source": [
    "<p style=\"font-family:Lato;font-size:140%;color:rgb(30,30,130);line-height:150%\">\n",
    "    <b> The LQG Problem </b>\n",
    "</p>\n",
    "\n",
    "* Suppose payoff is quadratic:\n",
    "\n",
    "\\begin{equation*}\n",
    "v(\\vec{a}_t,\\vec{x}_t) = -\\frac{1}{2}(\\vec{a}_t'-\\vec{x}_t'\\mathbf{H})(\\vec{a}_t-\\mathbf{H}'\\vec{x}_t)\n",
    "\\end{equation*}\n",
    "\n",
    "        \n",
    "\\begin{lem} \n",
    "    Suppose $\\vec{x}_0|S^{-1}$ is Gaussian and $\\vec{x}_t=\\mathbf{A}\\vec{x}_{t-1}+\\mathbf{Q}\\vec{u}_t$.\n",
    "    Then, the D.R.I.P is equivalent to:\n",
    "    \n",
    "\\begin{align*}\n",
    "    V_0(\\mathbf{\\Sigma}_{0|-1})\n",
    "    =\\max_{\\{\\mathbf{\\Sigma}_{t|t}\\in \\mathbb{S}^{n}_+ \\}_{t\\geq0}} &\n",
    "    -\\frac{1}{2}\\sum_{t=0}^{\\infty}\\beta^{t}\\left[\n",
    "    tr(\\mathbf{\\Sigma}_{t|t}\\mathbf{\\Omega})\n",
    "    +\\omega \\ln\\left(\\frac{|\\mathbf{\\Sigma}_{t|t-1}|}{|\\mathbf{\\Sigma}_{t|t}|}\\right)\\right]  \\\\ \n",
    "    s.t.\\ \\ \\ \\\n",
    "    &\\mathbf{\\Sigma}_{t+1|t}=\\mathbf{A}\\mathbf{\\Sigma}_{t|t}\\mathbf{A}'+\\mathbf{QQ'},\\quad \\forall t\\geq 0, \\ \\ \\ \\ \\ \\ \\ \\ \\ \\ \\ \\text{(evolution of priors)} \\\\ \n",
    "    &\\mathbf{\\Sigma}_{t|t-1}-\\mathbf{\\Sigma}_{t|t}\\succeq 0,\\quad \\forall t\\geq 0 \\ \\ \\ \\ \\ \\ \\ \\ \\ \\ \\ \\ \\ \\ \\ \\ \\ \\ \\ \\ \\ \\ \\ \\ \\  \\text{(no-forgetting)} \\\\ \n",
    "    & 0\\prec\\mathbf{\\Sigma}_{0|-1}\\prec \\infty \\quad\\text{given.}\n",
    "\\end{align*}\n",
    "    \n",
    "Here, $\\mathbf{\\Sigma}_{t|t}\\equiv var(\\vec{x}_t|a^{t})$, $\\mathbf{\\Sigma}_{t|t-1}\\equiv var(\\vec{x}_t|a^{t-1})$, and $\\mathbf{\\Omega}\\equiv \\mathbf{H}\\mathbf{H}'$.\n",
    "\\end{lem}     \n"
   ]
  },
  {
   "cell_type": "markdown",
   "metadata": {
    "slideshow": {
     "slide_type": "skip"
    }
   },
   "source": [
    "<p style=\"font-family:Lato;font-size:140%;color:rgb(30,30,130);line-height:150%\">\n",
    "    <b> The LQG Problem: Optimal Solution</b>\n",
    "</p>\n",
    "\n",
    "\\begin{align*}\n",
    "    v_t=-\\frac{1}{2}(\\vec{a}_t'-\\vec{x}_t'\\mathbf{H})(\\vec{a}_t-\\mathbf{H}'\\vec{x}_t),\\ \\  \n",
    "    \\vec{x}_t=\\mathbf{A}\\vec{x}_{t-1}+\\mathbf{Q}\\vec{u}_t, \\ \\   \n",
    "    \\mathbf{\\Omega}=\\mathbf{H}\\mathbf{H}' \n",
    "\\end{align*}\n",
    "    \n",
    "\\begin{theorem}\n",
    "    The solution to the LQG problem is characterized by:\n",
    "    \\begin{align*}\n",
    "        \\mathbf{\\Sigma}_{t|t}&=\\omega \\mathbf{\\Sigma}_{t|t-1}^{\\frac{1}{2}}\n",
    "        \\left[\\max\\left(\\mathbf{\\Sigma}_{t|t-1}^{\\frac{1}{2}}\\mathbf{\\Omega}_t\\mathbf{\\Sigma}_{t|t-1}^{\\frac{1}{2}},\\omega\\right)\\right]^{-1}\\mathbf{\\Sigma}_{t|t-1}^{\\frac{1}{2}}  \\ \\ \\ \\ \\ \\ \\ \\ \\ \\ \\ \\ \\ \\ \\ \\ \\ \\ \\text{(policy function)} \\\\ \\\\\n",
    "        \\mathbf{\\Omega}_t&=\\mathbf{\\Omega}+\\beta\\mathbf{A}'\\mathbf{\\Sigma}_{t+1|t}^{-\\frac{1}{2}}\\min\\left(\\mathbf{\\Sigma}_{t+1|t}^{\\frac{1}{2}}\\mathbf{\\Omega}_{t+1}\\mathbf{\\Sigma}_{t+1|t}^{\\frac{1}{2}},\\omega\\right)\\mathbf{\\Sigma}_{t+1|t}^{-\\frac{1}{2}}\\mathbf{A}  \\ \\ \\ \\ \\ \\ \\ \\ \\text{(Euler equation)} \\\\ \\\\\n",
    "        \\mathbf{\\Sigma}_{t+1|t}&=\\mathbf{A}\\mathbf{\\Sigma}_{t|t}\\mathbf{A}'+\\mathbf{QQ}'  \\ \\ \\ \\ \\ \\ \\ \\ \\ \\ \\ \\ \\ \\ \\ \\ \\ \\ \\ \\ \\ \\ \\ \\ \\ \\ \\ \\ \\ \\ \\ \\ \\ \\ \\ \\ \\ \\ \\ \\ \\ \\ \\ \\ \\ \\ \\ \\ \\ \\ \\ \\ \\ \\ \\ \\ \\ \\ \\ \\ \\ \\ \\text{(law of motions for priors)}\n",
    "    \\end{align*}\n",
    "\\end{theorem}"
   ]
  },
  {
   "cell_type": "markdown",
   "metadata": {
    "slideshow": {
     "slide_type": "skip"
    }
   },
   "source": [
    "<p style=\"font-family:Lato;font-size:140%;color:rgb(30,30,130);line-height:150%\">\n",
    "    <b> Optimal Solution - Steady State</b>\n",
    "</p>\n",
    "\n",
    "\\begin{align*}\n",
    "    &\\bar{\\mathbf{\\Sigma}}=\\omega \\bar{\\mathbf{\\Sigma}}_{-1}^{\\frac{1}{2}}\n",
    "        \\left[\\max\\left(\\bar{\\mathbf{\\Sigma}}_{-1}^{\\frac{1}{2}}\\bar{\\mathbf{\\Omega}}\\bar{\\mathbf{\\Sigma}}_{-1}^{\\frac{1}{2}},\\omega\\right)\\right]^{-1}\\bar{\\mathbf{\\Sigma}}_{-1}^{\\frac{1}{2}} \\ \\  \\ \\ \\ \\ \\ \\ \\ \\ \\ \\ \\ \\ \\ \\ \\ \\ \\ \\ \\ \\ \\ \\ \\  \\text{(1, posterior variance)} \\\\\n",
    "    &\\bar{\\mathbf{\\Omega}}=\\mathbf{\\Omega}+\\beta\\mathbf{A}'\\bar{\\mathbf{\\Sigma}}_{-1}^{-\\frac{1}{2}}\\min\\left(\\bar{\\mathbf{\\Sigma}}_{-1}^{\\frac{1}{2}}\\bar{\\mathbf{\\Omega}}\\bar{\\mathbf{\\Sigma}}_{-1}^{\\frac{1}{2}},\\omega\\right)\\bar{\\mathbf{\\Sigma}}_{-1}^{-\\frac{1}{2}}\\mathbf{A} \\ \\ \\ \\ \\ \\ \\ \\ \\ \\ \\ \\ \\ \\ \\ \\text{(2, benefit matrix)} \\\\\n",
    "    &\\bar{\\mathbf{\\Sigma}}_{-1}=\\mathbf{A}\\bar{\\mathbf{\\Sigma}}\\mathbf{A}'+\\mathbf{Q}\\mathbf{Q}' \\ \\ \\ \\ \\ \\ \\ \\ \\ \\ \\ \\ \\ \\ \\ \\ \\ \\ \\ \\ \\ \\ \\ \\ \\ \\ \\ \\ \\ \\ \\ \\ \\ \\ \\ \\ \\ \\ \\ \\ \\ \\ \\ \\ \\ \\ \\ \\ \\ \\ \\ \\ \\ \\ \\ \\ \\text{(3, prior variance)}\n",
    "\\end{align*}\n",
    "\n",
    "\\begin{itemize}\n",
    "    \\item It depends on $\\beta$\n",
    "    \\item Our \\textbf{solution algorithm} is based on these equations:\n",
    "    \\begin{itemize}\n",
    "        \\item Guess $\\bar{\\mathbf{\\Sigma}}_{-1}$ and $\\bar{\\mathbf{\\Omega}}$\n",
    "        \\item Update posterior $\\bar{\\mathbf{\\Sigma}}$ using (1)\n",
    "        \\item Update prior $\\bar{\\mathbf{\\Sigma}}_{-1}$ using (3)\n",
    "        \\item Update benefit matrix $\\bar{\\mathbf{\\Omega}}$ using (2)\n",
    "        \\item Iteratre until converge\n",
    "    \\end{itemize}\n",
    "    \\item Matlab/Julia codes available on GitHub\n",
    "\\end{itemize}\n"
   ]
  },
  {
   "cell_type": "markdown",
   "metadata": {
    "slideshow": {
     "slide_type": "skip"
    }
   },
   "source": [
    "<p style=\"font-family:Lato;font-size:140%;color:rgb(30,30,130);line-height:150%\">\n",
    "    <b> Installing and using DRIPs</b>\n",
    "</p>"
   ]
  },
  {
   "cell_type": "code",
   "execution_count": 25,
   "metadata": {},
   "outputs": [
    {
     "name": "stderr",
     "output_type": "stream",
     "text": [
      "\u001b[32m\u001b[1m  Resolving\u001b[22m\u001b[39m package versions...\n",
      "\u001b[32m\u001b[1mNo Changes\u001b[22m\u001b[39m to `~/.julia/environments/v1.5/Project.toml`\n",
      "\u001b[32m\u001b[1mNo Changes\u001b[22m\u001b[39m to `~/.julia/environments/v1.5/Manifest.toml`\n"
     ]
    }
   ],
   "source": [
    "using Pkg; Pkg.add(\"DRIPs\")\n",
    "using DRIPs"
   ]
  },
  {
   "cell_type": "markdown",
   "metadata": {
    "slideshow": {
     "slide_type": "slide"
    }
   },
   "source": [
    "<p style=\"font-family:Lato;font-size:140%;color:rgb(30,30,130);line-height:150%\">\n",
    "    <b> Sims (2011)</b>\n",
    "</p>\n",
    "A tracking problem with two AR(1) shocks with different persistence: $a_t = \\mathbb{E}_t[x_{1,t} + x_{2,t}]$. So $\\vec{x}_t=(x_{1,t},x_{2,t})$."
   ]
  },
  {
   "cell_type": "markdown",
   "metadata": {
    "slideshow": {
     "slide_type": "fragment"
    }
   },
   "source": [
    "The problem in [Sims (2011)](http://sims.princeton.edu/yftp/RIMP/handbookChapterRI2.pdf), as it appears on page 21, with slight change of notation,\n",
    "$$\n",
    "\\begin{aligned}\n",
    "            & \\min_{\\{\\Sigma_{t|t}\\succeq 0\\}_{t\\geq 0}} \\mathbb{E}_0\\left[\\sum_{t=0}^\\infty\n",
    "  \\beta^t \\left(tr(\\Sigma_{t|t}\\mathbf{H}\\mathbf{H}')+\\omega\\log\\left(\\frac{|\\Sigma_{t|t-1}|}{|\\Sigma_{t|t}|}\\right)\\right)\\right] \\\\\n",
    "  s.t.\\quad &\n",
    "  \\Sigma_{t+1|t}=\\mathbf{A}\\Sigma_{t|t}\\mathbf{A}'+\\mathbf{Q}\\mathbf{Q}'\\\\\n",
    "            & \\Sigma_{t|t-1}-\\Sigma_{t|t} \\text{ positive semi-definite}\n",
    "\\end{aligned}\n",
    "$$"
   ]
  },
  {
   "cell_type": "markdown",
   "metadata": {
    "slideshow": {
     "slide_type": "fragment"
    }
   },
   "source": [
    "$$\n",
    "\\begin{aligned}\n",
    "  \\mathbf{H} = \\left[\\begin{array}{c} 1 \\\\ 1\\end{array}\\right],\n",
    "    \\quad\n",
    "    \\mathbf{A} = \\left[\\begin{array}{cc}\n",
    "                          0.95 & 0\\\\\n",
    "                          0 & 0.4\\\\\n",
    "                     \\end{array}\\right],\n",
    "  \\quad\n",
    "  \\mathbf{Q} = \\left[\\begin{array}{cc}\n",
    "                          \\sqrt{0.0975} & 0\\\\\n",
    "                          0           & \\sqrt{0.86}\\\\\n",
    "                     \\end{array}\\right]\n",
    "\\end{aligned}\n",
    "$$"
   ]
  },
  {
   "cell_type": "markdown",
   "metadata": {
    "slideshow": {
     "slide_type": "slide"
    }
   },
   "source": [
    "<p style=\"font-family:Lato;font-size:140%;color:rgb(30,30,130);line-height:150%\">\n",
    "    <b> Initialization</b>\n",
    "</p>"
   ]
  },
  {
   "cell_type": "markdown",
   "metadata": {
    "slideshow": {
     "slide_type": "fragment"
    }
   },
   "source": [
    "Set parameters:"
   ]
  },
  {
   "cell_type": "code",
   "execution_count": 2,
   "metadata": {},
   "outputs": [],
   "source": [
    "β = 0.9;\n",
    "ω = 1.0;\n",
    "A = [0.95 0.0; 0.0 0.4];\n",
    "Q = [√0.0975 0.0; 0.0 √0.86];\n",
    "H = [1.0; 1.0];"
   ]
  },
  {
   "cell_type": "markdown",
   "metadata": {
    "slideshow": {
     "slide_type": "fragment"
    }
   },
   "source": [
    "Include the package and define the problem:"
   ]
  },
  {
   "cell_type": "code",
   "execution_count": 26,
   "metadata": {},
   "outputs": [
    {
     "data": {
      "text/plain": [
       "Drip(1.0, 0.9, [0.95 0.0; 0.0 0.4], [0.3122498999199199 0.0; 0.0 0.9273618495495703], [1.0; 1.0], DRIPs.SteadyState([0.36299434366706423; 0.6370056563329357], [0.46227732429053797; 0.3378569310285822], [0.2928773543161892], [0.3595107310556166 -0.1772002380604728; -0.1772002380604728 0.7946194124703002], [0.421958434777694 -0.06733609046297966; -0.06733609046297966 0.987139105995248], [2.1686834434602282 1.242549121301687; 1.242549121301687 1.102665525912237], 9.145222436557738e-5))"
      ]
     },
     "execution_count": 26,
     "metadata": {},
     "output_type": "execute_result"
    }
   ],
   "source": [
    "using DRIPs;\n",
    "p = Drip(ω,β,A,Q,H)"
   ]
  },
  {
   "cell_type": "markdown",
   "metadata": {
    "slideshow": {
     "slide_type": "slide"
    }
   },
   "source": [
    "<p style=\"font-family:Lato;font-size:140%;color:rgb(30,30,130);line-height:150%\">\n",
    "    <b> What is in p?</b>\n",
    "</p>"
   ]
  },
  {
   "cell_type": "code",
   "execution_count": 28,
   "metadata": {},
   "outputs": [
    {
     "data": {
      "text/latex": [
       "No documentation found.\n",
       "\n",
       "\\texttt{p} is of type \\texttt{Drip}.\n",
       "\n",
       "\\section{Summary}\n",
       "\\begin{verbatim}\n",
       "struct Drip <: Any\n",
       "\\end{verbatim}\n",
       "\\section{Fields}\n",
       "\\begin{verbatim}\n",
       "ω  :: Float64\n",
       "β  :: Float64\n",
       "A  :: Array{Float64,2}\n",
       "Q  :: Array{Float64,2}\n",
       "H  :: Array{Float64,2}\n",
       "ss :: DRIPs.SteadyState\n",
       "\\end{verbatim}\n"
      ],
      "text/markdown": [
       "No documentation found.\n",
       "\n",
       "`p` is of type `Drip`.\n",
       "\n",
       "# Summary\n",
       "\n",
       "```\n",
       "struct Drip <: Any\n",
       "```\n",
       "\n",
       "# Fields\n",
       "\n",
       "```\n",
       "ω  :: Float64\n",
       "β  :: Float64\n",
       "A  :: Array{Float64,2}\n",
       "Q  :: Array{Float64,2}\n",
       "H  :: Array{Float64,2}\n",
       "ss :: DRIPs.SteadyState\n",
       "```\n"
      ],
      "text/plain": [
       "  No documentation found.\n",
       "\n",
       "  \u001b[36mp\u001b[39m is of type \u001b[36mDrip\u001b[39m.\n",
       "\n",
       "\u001b[1m  Summary\u001b[22m\n",
       "\u001b[1m  ≡≡≡≡≡≡≡≡≡\u001b[22m\n",
       "\n",
       "\u001b[36m  struct Drip <: Any\u001b[39m\n",
       "\n",
       "\u001b[1m  Fields\u001b[22m\n",
       "\u001b[1m  ≡≡≡≡≡≡≡≡\u001b[22m\n",
       "\n",
       "\u001b[36m  ω  :: Float64\u001b[39m\n",
       "\u001b[36m  β  :: Float64\u001b[39m\n",
       "\u001b[36m  A  :: Array{Float64,2}\u001b[39m\n",
       "\u001b[36m  Q  :: Array{Float64,2}\u001b[39m\n",
       "\u001b[36m  H  :: Array{Float64,2}\u001b[39m\n",
       "\u001b[36m  ss :: DRIPs.SteadyState\u001b[39m"
      ]
     },
     "execution_count": 28,
     "metadata": {},
     "output_type": "execute_result"
    }
   ],
   "source": [
    "@doc p"
   ]
  },
  {
   "cell_type": "markdown",
   "metadata": {
    "slideshow": {
     "slide_type": "slide"
    }
   },
   "source": [
    "<p style=\"font-family:Lato;font-size:140%;color:rgb(30,30,130);line-height:150%\">\n",
    "    <b> What is in p?</b>\n",
    "</p>"
   ]
  },
  {
   "cell_type": "code",
   "execution_count": 5,
   "metadata": {
    "scrolled": true
   },
   "outputs": [
    {
     "data": {
      "text/latex": [
       "No documentation found.\n",
       "\n",
       "\\texttt{ss} is of type \\texttt{DRIPs.SteadyState}.\n",
       "\n",
       "\\section{Summary}\n",
       "\\begin{verbatim}\n",
       "struct DRIPs.SteadyState <: Any\n",
       "\\end{verbatim}\n",
       "\\section{Fields}\n",
       "\\begin{verbatim}\n",
       "K   :: Array{Float64,2}\n",
       "Y   :: Array{Float64,2}\n",
       "Σ_z :: Array{Float64,2}\n",
       "Σ_p :: Array{Float64,2}\n",
       "Σ_1 :: Array{Float64,2}\n",
       "Ω   :: Array{Float64,2}\n",
       "err :: Float64\n",
       "\\end{verbatim}\n"
      ],
      "text/markdown": [
       "No documentation found.\n",
       "\n",
       "`ss` is of type `DRIPs.SteadyState`.\n",
       "\n",
       "# Summary\n",
       "\n",
       "```\n",
       "struct DRIPs.SteadyState <: Any\n",
       "```\n",
       "\n",
       "# Fields\n",
       "\n",
       "```\n",
       "K   :: Array{Float64,2}\n",
       "Y   :: Array{Float64,2}\n",
       "Σ_z :: Array{Float64,2}\n",
       "Σ_p :: Array{Float64,2}\n",
       "Σ_1 :: Array{Float64,2}\n",
       "Ω   :: Array{Float64,2}\n",
       "err :: Float64\n",
       "```\n"
      ],
      "text/plain": [
       "  No documentation found.\n",
       "\n",
       "  \u001b[36mss\u001b[39m is of type \u001b[36mDRIPs.SteadyState\u001b[39m.\n",
       "\n",
       "\u001b[1m  Summary\u001b[22m\n",
       "\u001b[1m  ≡≡≡≡≡≡≡≡≡\u001b[22m\n",
       "\n",
       "\u001b[36m  struct DRIPs.SteadyState <: Any\u001b[39m\n",
       "\n",
       "\u001b[1m  Fields\u001b[22m\n",
       "\u001b[1m  ≡≡≡≡≡≡≡≡\u001b[22m\n",
       "\n",
       "\u001b[36m  K   :: Array{Float64,2}\u001b[39m\n",
       "\u001b[36m  Y   :: Array{Float64,2}\u001b[39m\n",
       "\u001b[36m  Σ_z :: Array{Float64,2}\u001b[39m\n",
       "\u001b[36m  Σ_p :: Array{Float64,2}\u001b[39m\n",
       "\u001b[36m  Σ_1 :: Array{Float64,2}\u001b[39m\n",
       "\u001b[36m  Ω   :: Array{Float64,2}\u001b[39m\n",
       "\u001b[36m  err :: Float64\u001b[39m"
      ]
     },
     "execution_count": 5,
     "metadata": {},
     "output_type": "execute_result"
    }
   ],
   "source": [
    "ss = p.ss; @doc ss"
   ]
  },
  {
   "cell_type": "markdown",
   "metadata": {
    "slideshow": {
     "slide_type": "slide"
    }
   },
   "source": [
    "<p style=\"font-family:Lato;font-size:140%;color:rgb(30,30,130);line-height:150%\">\n",
    "    <b> What is in p?</b>\n",
    "</p>"
   ]
  },
  {
   "cell_type": "code",
   "execution_count": 6,
   "metadata": {},
   "outputs": [
    {
     "data": {
      "text/plain": [
       "2×2 Array{Float64,2}:\n",
       "  0.421958   -0.0673361\n",
       " -0.0673361   0.987139"
      ]
     },
     "execution_count": 6,
     "metadata": {},
     "output_type": "execute_result"
    }
   ],
   "source": [
    "p.ss.Σ_1 # prior in steady-state"
   ]
  },
  {
   "cell_type": "code",
   "execution_count": 7,
   "metadata": {},
   "outputs": [
    {
     "data": {
      "text/plain": [
       "2×2 Array{Float64,2}:\n",
       "  0.359511  -0.1772\n",
       " -0.1772     0.794619"
      ]
     },
     "execution_count": 7,
     "metadata": {},
     "output_type": "execute_result"
    }
   ],
   "source": [
    " p.ss.Σ_p # posterior is steady-state"
   ]
  },
  {
   "cell_type": "code",
   "execution_count": 8,
   "metadata": {
    "scrolled": true
   },
   "outputs": [
    {
     "data": {
      "text/plain": [
       "2×1 Array{Float64,2}:\n",
       " 0.46227732429053797\n",
       " 0.3378569310285822"
      ]
     },
     "execution_count": 8,
     "metadata": {},
     "output_type": "execute_result"
    }
   ],
   "source": [
    "p.ss.Y # loading of price on shocks in steady-state"
   ]
  },
  {
   "cell_type": "markdown",
   "metadata": {
    "slideshow": {
     "slide_type": "slide"
    }
   },
   "source": [
    "<p style=\"font-family:Lato;font-size:140%;color:rgb(30,30,130);line-height:150%\">\n",
    "    <b> Stability and Performance: Solution Times</b>\n",
    "</p>"
   ]
  },
  {
   "cell_type": "code",
   "execution_count": 9,
   "metadata": {},
   "outputs": [
    {
     "data": {
      "text/plain": [
       "BenchmarkTools.Trial: \n",
       "  memory estimate:  291.64 KiB\n",
       "  allocs estimate:  2354\n",
       "  --------------\n",
       "  minimum time:     130.869 μs (0.00% GC)\n",
       "  median time:      142.190 μs (0.00% GC)\n",
       "  mean time:        158.703 μs (9.61% GC)\n",
       "  maximum time:     2.664 ms (91.64% GC)\n",
       "  --------------\n",
       "  samples:          10000\n",
       "  evals/sample:     1"
      ]
     },
     "execution_count": 9,
     "metadata": {},
     "output_type": "execute_result"
    }
   ],
   "source": [
    "using BenchmarkTools;\n",
    "bench = @benchmark Drip(ω,β,A,Q,H) setup = (ω = 2*rand(), β=rand())"
   ]
  },
  {
   "cell_type": "markdown",
   "metadata": {
    "slideshow": {
     "slide_type": "slide"
    }
   },
   "source": [
    "<p style=\"font-family:Lato;font-size:140%;color:rgb(30,30,130);line-height:150%\">\n",
    "    <b> Stability and Performance: Histogram of solution times</b>\n",
    "</p>"
   ]
  },
  {
   "cell_type": "code",
   "execution_count": 30,
   "metadata": {
    "slideshow": {
     "slide_type": "slide"
    }
   },
   "outputs": [
    {
     "data": {
      "image/png": "[encoded data removed]"
     },
     "execution_count": 30,
     "metadata": {},
     "output_type": "execute_result"
    }
   ],
   "source": [
    "using Plots;\n",
    "histogram(bench.times)"
   ]
  },
  {
   "cell_type": "markdown",
   "metadata": {
    "slideshow": {
     "slide_type": "slide"
    }
   },
   "source": [
    "<p style=\"font-family:Lato;font-size:140%;color:rgb(30,30,130);line-height:150%\">\n",
    "    <b>IRFs</b>\n",
    "</p>\n",
    "Use the built-in `irfs()` function to retrieve impulse response functions of beliefs and actions to shocks."
   ]
  },
  {
   "cell_type": "code",
   "execution_count": 31,
   "metadata": {},
   "outputs": [],
   "source": [
    "p = Drip(ω,β,A,Q,H)\n",
    "irfs_bp = irfs(p,T = 25);"
   ]
  },
  {
   "cell_type": "code",
   "execution_count": 12,
   "metadata": {},
   "outputs": [
    {
     "data": {
      "text/latex": [
       "\\section{Summary}\n",
       "A Structure for the irfs/simulations of DRIPs\n",
       "\n",
       "\\section{Fields}\n",
       "\\begin{verbatim}\n",
       "T     : length of IRFs/simulation\n",
       "x     : IRFs/simulation of the fundamental shocks\n",
       "x_hat : IRFs/simulation of beliefs\n",
       "a     : IRFs/simulation of actions\n",
       "\\end{verbatim}\n",
       "In particular, if \\texttt{n} is the dimension of \\texttt{x}, \\texttt{m} is the dimension of \\texttt{a} and \\texttt{k} is the number of structural shocks, then\n",
       "\n",
       "\\begin{itemize}\n",
       "\\item \\texttt{x} has dimension \\texttt{n*k*T} where \\texttt{x(i,j,:)} is the impulse response function of   the \\texttt{i}'th dimension of \\texttt{x} to the \\texttt{j}'th structural shock.\n",
       "\n",
       "\n",
       "\\item \\texttt{x\\_hat} has dimension \\texttt{n*k*T} where \\texttt{x\\_hat(i,j,:)} is the impulse response   function of the agent's average belief about the \\texttt{i}'th dimension of \\texttt{x} to   the \\texttt{j}'th structural shock.\n",
       "\n",
       "\n",
       "\\item \\texttt{a} has dimension \\texttt{m*k*T} where \\texttt{a(i,j,:)} is the impulse response function of   the \\texttt{i}'th action to the \\texttt{j}'th structural shock.\n",
       "\n",
       "\\end{itemize}\n"
      ],
      "text/markdown": [
       "# Summary\n",
       "\n",
       "A Structure for the irfs/simulations of DRIPs\n",
       "\n",
       "# Fields\n",
       "\n",
       "```\n",
       "T     : length of IRFs/simulation\n",
       "x     : IRFs/simulation of the fundamental shocks\n",
       "x_hat : IRFs/simulation of beliefs\n",
       "a     : IRFs/simulation of actions\n",
       "```\n",
       "\n",
       "In particular, if `n` is the dimension of `x`, `m` is the dimension of `a` and `k` is the number of structural shocks, then\n",
       "\n",
       "  * `x` has dimension `n*k*T` where `x(i,j,:)` is the impulse response function of   the `i`'th dimension of `x` to the `j`'th structural shock.\n",
       "  * `x_hat` has dimension `n*k*T` where `x_hat(i,j,:)` is the impulse response   function of the agent's average belief about the `i`'th dimension of `x` to   the `j`'th structural shock.\n",
       "  * `a` has dimension `m*k*T` where `a(i,j,:)` is the impulse response function of   the `i`'th action to the `j`'th structural shock.\n"
      ],
      "text/plain": [
       "\u001b[1m  Summary\u001b[22m\n",
       "\u001b[1m  ≡≡≡≡≡≡≡≡≡\u001b[22m\n",
       "\n",
       "  A Structure for the irfs/simulations of DRIPs\n",
       "\n",
       "\u001b[1m  Fields\u001b[22m\n",
       "\u001b[1m  ≡≡≡≡≡≡≡≡\u001b[22m\n",
       "\n",
       "\u001b[36m  T     : length of IRFs/simulation\u001b[39m\n",
       "\u001b[36m  x     : IRFs/simulation of the fundamental shocks\u001b[39m\n",
       "\u001b[36m  x_hat : IRFs/simulation of beliefs\u001b[39m\n",
       "\u001b[36m  a     : IRFs/simulation of actions\u001b[39m\n",
       "\n",
       "  In particular, if \u001b[36mn\u001b[39m is the dimension of \u001b[36mx\u001b[39m, \u001b[36mm\u001b[39m is the dimension of \u001b[36ma\u001b[39m and \u001b[36mk\u001b[39m is\n",
       "  the number of structural shocks, then\n",
       "\n",
       "    •    \u001b[36mx\u001b[39m has dimension \u001b[36mn*k*T\u001b[39m where \u001b[36mx(i,j,:)\u001b[39m is the impulse response\n",
       "        function of the \u001b[36mi\u001b[39m'th dimension of \u001b[36mx\u001b[39m to the \u001b[36mj\u001b[39m'th structural shock.\n",
       "\n",
       "    •    \u001b[36mx_hat\u001b[39m has dimension \u001b[36mn*k*T\u001b[39m where \u001b[36mx_hat(i,j,:)\u001b[39m is the impulse\n",
       "        response function of the agent's average belief about the \u001b[36mi\u001b[39m'th\n",
       "        dimension of \u001b[36mx\u001b[39m to the \u001b[36mj\u001b[39m'th structural shock.\n",
       "\n",
       "    •    \u001b[36ma\u001b[39m has dimension \u001b[36mm*k*T\u001b[39m where \u001b[36ma(i,j,:)\u001b[39m is the impulse response\n",
       "        function of the \u001b[36mi\u001b[39m'th action to the \u001b[36mj\u001b[39m'th structural shock."
      ]
     },
     "execution_count": 12,
     "metadata": {},
     "output_type": "execute_result"
    }
   ],
   "source": [
    "?DRIPs.Path"
   ]
  },
  {
   "cell_type": "markdown",
   "metadata": {
    "slideshow": {
     "slide_type": "slide"
    }
   },
   "source": [
    "<p style=\"font-family:Lato;font-size:140%;color:rgb(30,30,130);line-height:150%\">\n",
    "    <b>Plot IRFs</b>\n",
    "</p>"
   ]
  },
  {
   "cell_type": "code",
   "execution_count": 13,
   "metadata": {},
   "outputs": [
    {
     "data": {
      "image/png": "[encoded data removed]"
     },
     "execution_count": 13,
     "metadata": {},
     "output_type": "execute_result"
    }
   ],
   "source": [
    "using Plots, LaTeXStrings; pyplot(); T  = 25;\n",
    "pl1 = plot(1:T, [irfs_bp.x[1,1,:], irfs_bp.a[1,1,:]],\n",
    "    title             = L\"IRFs to Slow-Moving Shock ($\\rho = 0.95$)\",\n",
    "    label             = [\"Shock\" \"Price\"])\n",
    "pl2 = plot(1:T, [irfs_bp.x[2,2,:], irfs_bp.a[1,2,:]],\n",
    "    title             = L\"IRFs to Fast-Moving Shock ($\\rho = 0.4$)\",\n",
    "    label             = [\"Shock\" \"Price\"],)\n",
    "pl = plot(pl1,pl2,\n",
    "    layout     = (2,1))"
   ]
  },
  {
   "cell_type": "markdown",
   "metadata": {
    "slideshow": {
     "slide_type": "slide"
    }
   },
   "source": [
    "<p style=\"font-family:Lato;font-size:140%;color:rgb(30,30,130);line-height:150%\">\n",
    "    <b> Transition Dynamics of Attention</b>\n",
    "</p>"
   ]
  },
  {
   "cell_type": "code",
   "execution_count": 14,
   "metadata": {},
   "outputs": [],
   "source": [
    "p = Drip(ω,β,A,Q,H);"
   ]
  },
  {
   "cell_type": "markdown",
   "metadata": {},
   "source": [
    "So far, we solved for steady state information structure. How about transition dynamics?"
   ]
  },
  {
   "cell_type": "markdown",
   "metadata": {},
   "source": [
    "Suppose the initial belief is different from the Steady State belief: $\\vec{x}_0\\sim N(0,0)$"
   ]
  },
  {
   "cell_type": "code",
   "execution_count": 15,
   "metadata": {},
   "outputs": [],
   "source": [
    "Σ_init  = [0 0; 0 0]\n",
    "Tss     = 30; # guess for time until convergence\n",
    "pt      = Trip(p, Σ_init; T = Tss);"
   ]
  },
  {
   "cell_type": "markdown",
   "metadata": {
    "slideshow": {
     "slide_type": "slide"
    }
   },
   "source": [
    "<p style=\"font-family:Lato;font-size:140%;color:rgb(30,30,130);line-height:150%\">\n",
    "    <b> Transition Dynamics of Attention</b>\n",
    "</p>"
   ]
  },
  {
   "cell_type": "code",
   "execution_count": 16,
   "metadata": {},
   "outputs": [
    {
     "name": "stdout",
     "output_type": "stream",
     "text": [
      "search: \u001b[0m\u001b[1mp\u001b[22mromote_\u001b[0m\u001b[1mt\u001b[22mype \u001b[0m\u001b[1mP\u001b[22mRESERVE_\u001b[0m\u001b[1mT\u001b[22mIERED \u001b[0m\u001b[1mp\u001b[22mrimitive \u001b[0m\u001b[1mt\u001b[22mype unsafe_\u001b[0m\u001b[1mp\u001b[22mointer_\u001b[0m\u001b[1mt\u001b[22mo_objref \u001b[0m\u001b[1mp\u001b[22m\u001b[0m\u001b[1mt\u001b[22m\n",
      "\n"
     ]
    },
    {
     "data": {
      "text/latex": [
       "No documentation found.\n",
       "\n",
       "\\texttt{pt} is of type \\texttt{Trip}.\n",
       "\n",
       "\\section{Summary}\n",
       "\\begin{verbatim}\n",
       "struct Trip <: Any\n",
       "\\end{verbatim}\n",
       "\\section{Fields}\n",
       "\\begin{verbatim}\n",
       "p       :: Drip\n",
       "T       :: Int32\n",
       "Σ_1s    :: Array{Float64,3}\n",
       "Σ_ps    :: Array{Float64,3}\n",
       "Ωs      :: Array{Float64,3}\n",
       "Ds      :: Array{Float64,2}\n",
       "err     :: Float64\n",
       "con_err :: Float64\n",
       "\\end{verbatim}\n"
      ],
      "text/markdown": [
       "No documentation found.\n",
       "\n",
       "`pt` is of type `Trip`.\n",
       "\n",
       "# Summary\n",
       "\n",
       "```\n",
       "struct Trip <: Any\n",
       "```\n",
       "\n",
       "# Fields\n",
       "\n",
       "```\n",
       "p       :: Drip\n",
       "T       :: Int32\n",
       "Σ_1s    :: Array{Float64,3}\n",
       "Σ_ps    :: Array{Float64,3}\n",
       "Ωs      :: Array{Float64,3}\n",
       "Ds      :: Array{Float64,2}\n",
       "err     :: Float64\n",
       "con_err :: Float64\n",
       "```\n"
      ],
      "text/plain": [
       "  No documentation found.\n",
       "\n",
       "  \u001b[36mpt\u001b[39m is of type \u001b[36mTrip\u001b[39m.\n",
       "\n",
       "\u001b[1m  Summary\u001b[22m\n",
       "\u001b[1m  ≡≡≡≡≡≡≡≡≡\u001b[22m\n",
       "\n",
       "\u001b[36m  struct Trip <: Any\u001b[39m\n",
       "\n",
       "\u001b[1m  Fields\u001b[22m\n",
       "\u001b[1m  ≡≡≡≡≡≡≡≡\u001b[22m\n",
       "\n",
       "\u001b[36m  p       :: Drip\u001b[39m\n",
       "\u001b[36m  T       :: Int32\u001b[39m\n",
       "\u001b[36m  Σ_1s    :: Array{Float64,3}\u001b[39m\n",
       "\u001b[36m  Σ_ps    :: Array{Float64,3}\u001b[39m\n",
       "\u001b[36m  Ωs      :: Array{Float64,3}\u001b[39m\n",
       "\u001b[36m  Ds      :: Array{Float64,2}\u001b[39m\n",
       "\u001b[36m  err     :: Float64\u001b[39m\n",
       "\u001b[36m  con_err :: Float64\u001b[39m"
      ]
     },
     "execution_count": 16,
     "metadata": {},
     "output_type": "execute_result"
    }
   ],
   "source": [
    "?pt"
   ]
  },
  {
   "cell_type": "markdown",
   "metadata": {
    "slideshow": {
     "slide_type": "slide"
    }
   },
   "source": [
    "<p style=\"font-family:Lato;font-size:140%;color:rgb(30,30,130);line-height:150%\">\n",
    "    <b> Transition Dynamics of Attention</b>\n",
    "</p>"
   ]
  },
  {
   "cell_type": "code",
   "execution_count": 17,
   "metadata": {},
   "outputs": [
    {
     "data": {
      "text/plain": [
       "BenchmarkTools.Trial: \n",
       "  memory estimate:  474.52 KiB\n",
       "  allocs estimate:  5114\n",
       "  --------------\n",
       "  minimum time:     413.084 μs (0.00% GC)\n",
       "  median time:      435.166 μs (0.00% GC)\n",
       "  mean time:        491.398 μs (10.50% GC)\n",
       "  maximum time:     5.688 ms (87.33% GC)\n",
       "  --------------\n",
       "  samples:          10000\n",
       "  evals/sample:     1"
      ]
     },
     "execution_count": 17,
     "metadata": {},
     "output_type": "execute_result"
    }
   ],
   "source": [
    "using LinearAlgebra\n",
    "@benchmark Trip(p, Σ; T = 30) setup = (Σ = Symmetric(rand(2,2)))"
   ]
  },
  {
   "cell_type": "markdown",
   "metadata": {
    "slideshow": {
     "slide_type": "slide"
    }
   },
   "source": [
    "<p style=\"font-family:Lato;font-size:140%;color:rgb(30,30,130);line-height:150%\">\n",
    "    <b> Transition Dynamics of Attention</b>\n",
    "</p>"
   ]
  },
  {
   "cell_type": "code",
   "execution_count": 18,
   "metadata": {},
   "outputs": [
    {
     "data": {
      "text/plain": [
       "2×2 Array{Float64,2}:\n",
       " 0.0  0.0\n",
       " 0.0  0.0"
      ]
     },
     "execution_count": 18,
     "metadata": {},
     "output_type": "execute_result"
    }
   ],
   "source": [
    "pt.Σ_1s[:,:,1]"
   ]
  },
  {
   "cell_type": "code",
   "execution_count": 19,
   "metadata": {},
   "outputs": [
    {
     "data": {
      "text/plain": [
       "2×2 Array{Float64,2}:\n",
       " 0.0975  0.0\n",
       " 0.0     0.86"
      ]
     },
     "execution_count": 19,
     "metadata": {},
     "output_type": "execute_result"
    }
   ],
   "source": [
    "pt.Σ_1s[:,:,2]"
   ]
  },
  {
   "cell_type": "code",
   "execution_count": 20,
   "metadata": {},
   "outputs": [
    {
     "data": {
      "text/plain": [
       "2×2 Array{Float64,2}:\n",
       "  0.184409    -0.00332986\n",
       " -0.00332986   0.987377"
      ]
     },
     "execution_count": 20,
     "metadata": {},
     "output_type": "execute_result"
    }
   ],
   "source": [
    "pt.Σ_1s[:,:,3]"
   ]
  },
  {
   "cell_type": "code",
   "execution_count": 21,
   "metadata": {},
   "outputs": [
    {
     "data": {
      "text/plain": [
       "2×2 Array{Float64,2}:\n",
       "  0.421633   -0.0672349\n",
       " -0.0672349   0.987124"
      ]
     },
     "execution_count": 21,
     "metadata": {},
     "output_type": "execute_result"
    }
   ],
   "source": [
    "pt.Σ_1s[:,:,end]"
   ]
  },
  {
   "cell_type": "markdown",
   "metadata": {
    "slideshow": {
     "slide_type": "slide"
    }
   },
   "source": [
    "<p style=\"font-family:Lato;font-size:140%;color:rgb(30,30,130);line-height:150%\">\n",
    "    <b> Transition Dynamics of Attention</b>\n",
    "</p>"
   ]
  },
  {
   "cell_type": "code",
   "execution_count": 22,
   "metadata": {
    "scrolled": true
   },
   "outputs": [
    {
     "data": {
      "image/png": "[encoded data removed]"
     },
     "execution_count": 22,
     "metadata": {},
     "output_type": "execute_result"
    }
   ],
   "source": [
    "pl = plot(0:Tss-1,[pt.Ds[1,1:Tss],pt.Ds[2,1:Tss],pt.p.ω*ones(Tss,1)],\n",
    "    label             = [\"Low marginal value dim.\" \"High marginal value dim.\" \"Marginal cost of attention\"],\n",
    "    size              = (900,275),\n",
    "    title             = \"Marginal Value of Information\",\n",
    "    xlabel            = \"Time\",\n",
    "    color             = [:darkgray :black :black],\n",
    "    line              = [:solid :solid :dash],\n",
    "    marker            = [:circle :square :none],\n",
    "    markercolor       = false,\n",
    "    markerstrokecolor = :match,\n",
    "    markersize        = 6,\n",
    "    xlim              = (-1,Tss),\n",
    "    xticks            = 0:2:Tss-1,\n",
    "    legend            = :outertopright,\n",
    "    fontfamily        = \"serif\",\n",
    "    framestyle        = :box)"
   ]
  },
  {
   "cell_type": "code",
   "execution_count": null,
   "metadata": {},
   "outputs": [],
   "source": []
  },
  {
   "cell_type": "code",
   "execution_count": null,
   "metadata": {},
   "outputs": [],
   "source": []
  },
  {
   "cell_type": "code",
   "execution_count": null,
   "metadata": {},
   "outputs": [],
   "source": []
  },
  {
   "cell_type": "code",
   "execution_count": null,
   "metadata": {},
   "outputs": [],
   "source": []
  }
 ],
 "metadata": {
  "celltoolbar": "Slideshow",
  "kernelspec": {
   "display_name": "Julia 1.5.2",
   "language": "julia",
   "name": "julia-1.5"
  },
  "language_info": {
   "file_extension": ".jl",
   "mimetype": "application/julia",
   "name": "julia",
   "version": "1.5.2"
  },
  "latex_envs": {
   "LaTeX_envs_menu_present": true,
   "autoclose": false,
   "autocomplete": true,
   "bibliofile": "biblio.bib",
   "cite_by": "apalike",
   "current_citInitial": 1,
   "eqLabelWithNumbers": true,
   "eqNumInitial": 1,
   "hotkeys": {
    "equation": "Ctrl-E",
    "itemize": "Ctrl-I"
   },
   "labels_anchors": false,
   "latex_user_defs": false,
   "report_style_numbering": false,
   "user_envs_cfg": false
  }
 },
 "nbformat": 4,
 "nbformat_minor": 4
}
